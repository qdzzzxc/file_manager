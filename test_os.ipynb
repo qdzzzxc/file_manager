{
 "cells": [
  {
   "cell_type": "code",
   "execution_count": 3,
   "metadata": {},
   "outputs": [
    {
     "data": {
      "text/plain": [
       "'abc'"
      ]
     },
     "execution_count": 3,
     "metadata": {},
     "output_type": "execute_result"
    }
   ],
   "source": [
    "a = input()\n",
    "a"
   ]
  },
  {
   "cell_type": "code",
   "execution_count": 4,
   "metadata": {},
   "outputs": [],
   "source": [
    "import os"
   ]
  },
  {
   "cell_type": "code",
   "execution_count": 5,
   "metadata": {},
   "outputs": [
    {
     "data": {
      "text/plain": [
       "'c:\\\\Users\\\\Никита\\\\университет\\\\практикум\\\\файловый менеджер'"
      ]
     },
     "execution_count": 5,
     "metadata": {},
     "output_type": "execute_result"
    }
   ],
   "source": [
    "os.getcwd()"
   ]
  },
  {
   "cell_type": "code",
   "execution_count": 6,
   "metadata": {},
   "outputs": [],
   "source": [
    "import os\n",
    "import shutil"
   ]
  },
  {
   "cell_type": "code",
   "execution_count": 109,
   "metadata": {},
   "outputs": [],
   "source": [
    "def list_directory(path=None, nested=False, _level=0):\n",
    "    queue = []\n",
    "    for file in os.listdir(path):\n",
    "        path = \"\" if path is None else path\n",
    "        if nested and os.path.isdir(dirpath := os.path.join(path, file)):\n",
    "            queue.append(dirpath)\n",
    "        else:\n",
    "            print(\n",
    "                \"\\t\" * _level\n",
    "                + (\">\" if os.path.isdir(os.path.join(path, file)) else \"|\")\n",
    "                + file\n",
    "            )\n",
    "\n",
    "    for file in queue:\n",
    "        print(\"\\t\" * _level + \">\" + os.path.basename(file))\n",
    "        list_directory(path=file, nested=True, _level=_level + 1)\n"
   ]
  },
  {
   "cell_type": "code",
   "execution_count": 111,
   "metadata": {},
   "outputs": [],
   "source": [
    "def make_file(path):\n",
    "    try:\n",
    "        with open(path, 'w') as file:\n",
    "            file.write(\"\")\n",
    "        print(f\"File {path} created\")\n",
    "    except OSError as e:\n",
    "        print(f\"Error: {e}\")"
   ]
  },
  {
   "cell_type": "code",
   "execution_count": 112,
   "metadata": {},
   "outputs": [
    {
     "name": "stdout",
     "output_type": "stream",
     "text": [
      "File test_f.txt created\n"
     ]
    }
   ],
   "source": [
    "make_file('test_f.txt')"
   ]
  },
  {
   "cell_type": "code",
   "execution_count": 113,
   "metadata": {},
   "outputs": [
    {
     "name": "stdout",
     "output_type": "stream",
     "text": [
      "|test.py\n",
      "|test_f.txt\n",
      "|test_os.ipynb\n",
      "|Системное_программирование_5 и 6.ipynb\n",
      ">test_dir_1\n",
      "\t|test_file_1.txt\n",
      "\t>test_dir_2\n",
      "\t\t|test_file_2.txt\n",
      "\t\t|test_file_3.txt\n",
      ">test_dir_3\n",
      "\t|test_file_4.txt\n"
     ]
    }
   ],
   "source": [
    "list_directory(nested=True)"
   ]
  },
  {
   "cell_type": "code",
   "execution_count": 59,
   "metadata": {},
   "outputs": [
    {
     "data": {
      "text/plain": [
       "['test_file_2.txt', 'test_file_3.txt']"
      ]
     },
     "execution_count": 59,
     "metadata": {},
     "output_type": "execute_result"
    }
   ],
   "source": [
    "os.listdir('test_dir_1/test_dir_2')"
   ]
  },
  {
   "cell_type": "code",
   "execution_count": null,
   "metadata": {},
   "outputs": [],
   "source": []
  }
 ],
 "metadata": {
  "kernelspec": {
   "display_name": "Python 3",
   "language": "python",
   "name": "python3"
  },
  "language_info": {
   "codemirror_mode": {
    "name": "ipython",
    "version": 3
   },
   "file_extension": ".py",
   "mimetype": "text/x-python",
   "name": "python",
   "nbconvert_exporter": "python",
   "pygments_lexer": "ipython3",
   "version": "3.9.12"
  }
 },
 "nbformat": 4,
 "nbformat_minor": 2
}
