{
 "cells": [
  {
   "cell_type": "code",
   "execution_count": 1,
   "metadata": {},
   "outputs": [
    {
     "name": "stdout",
     "output_type": "stream",
     "text": [
      "Метод second_update вызван\n"
     ]
    }
   ],
   "source": [
    "class MyClass:\n",
    "    def __init__(self):\n",
    "        # Создаем экземпляр другого класса, передавая метод в качестве аргумента\n",
    "        self.fabric = OSFabric(second_update=self.second_update)\n",
    "\n",
    "    def second_update(self):\n",
    "        print(\"Метод second_update вызван\")\n",
    "\n",
    "class OSFabric:\n",
    "    def __init__(self, second_update):\n",
    "        # Сохраняем переданный метод в качестве атрибута этого класса\n",
    "        self.second_update_method = second_update\n",
    "        # Можем вызвать сохраненный метод\n",
    "        self.second_update_method()\n",
    "\n",
    "# Создание экземпляра MyClass\n",
    "obj = MyClass()\n"
   ]
  },
  {
   "cell_type": "code",
   "execution_count": 10,
   "metadata": {},
   "outputs": [],
   "source": [
    "import shutil\n",
    "import os\n",
    "\n",
    "os.startfile('explorer.exe')"
   ]
  },
  {
   "cell_type": "code",
   "execution_count": 5,
   "metadata": {},
   "outputs": [],
   "source": [
    "def list_directory(path=None, nested=False, _level=0):\n",
    "    queue = []\n",
    "    for file in os.listdir(path):\n",
    "        path = \"\" if path is None else path\n",
    "        if nested and os.path.isdir(dirpath := os.path.join(path, file)):\n",
    "            queue.append(dirpath)\n",
    "        else:\n",
    "            print(\n",
    "                \"\\t\" * _level\n",
    "                + (\">\" if os.path.isdir(os.path.join(path, file)) else \"|\")\n",
    "                + file\n",
    "            )\n",
    "\n",
    "    for file in queue:\n",
    "        print(\"\\t\" * _level + \">\" + os.path.basename(file))\n",
    "        list_directory(path=file, nested=True, _level=_level + 1)\n"
   ]
  },
  {
   "cell_type": "code",
   "execution_count": 9,
   "metadata": {},
   "outputs": [
    {
     "data": {
      "text/plain": [
       "'c:\\\\projects\\\\file_manager'"
      ]
     },
     "execution_count": 9,
     "metadata": {},
     "output_type": "execute_result"
    }
   ],
   "source": [
    "os.getcwd()"
   ]
  },
  {
   "cell_type": "code",
   "execution_count": 11,
   "metadata": {},
   "outputs": [
    {
     "data": {
      "text/plain": [
       "['config',\n",
       " 'description',\n",
       " 'HEAD',\n",
       " 'hooks',\n",
       " 'index',\n",
       " 'info',\n",
       " 'logs',\n",
       " 'objects',\n",
       " 'packed-refs',\n",
       " 'refs']"
      ]
     },
     "execution_count": 11,
     "metadata": {},
     "output_type": "execute_result"
    }
   ],
   "source": [
    "os.listdir(os.path.join(os.getcwd(), os.listdir()[0]))"
   ]
  },
  {
   "cell_type": "code",
   "execution_count": 22,
   "metadata": {},
   "outputs": [
    {
     "ename": "AttributeError",
     "evalue": "module 'ntpath' has no attribute 'cd'",
     "output_type": "error",
     "traceback": [
      "\u001b[1;31m---------------------------------------------------------------------------\u001b[0m",
      "\u001b[1;31mAttributeError\u001b[0m                            Traceback (most recent call last)",
      "Cell \u001b[1;32mIn[22], line 1\u001b[0m\n\u001b[1;32m----> 1\u001b[0m \u001b[43mos\u001b[49m\u001b[38;5;241;43m.\u001b[39;49m\u001b[43mpath\u001b[49m\u001b[38;5;241;43m.\u001b[39;49m\u001b[43mcd\u001b[49m(\u001b[38;5;124m'\u001b[39m\u001b[38;5;124m..\u001b[39m\u001b[38;5;124m'\u001b[39m)\n",
      "\u001b[1;31mAttributeError\u001b[0m: module 'ntpath' has no attribute 'cd'"
     ]
    }
   ],
   "source": [
    "os.path.cd('..')"
   ]
  },
  {
   "cell_type": "code",
   "execution_count": 24,
   "metadata": {},
   "outputs": [
    {
     "data": {
      "text/plain": [
       "True"
      ]
     },
     "execution_count": 24,
     "metadata": {},
     "output_type": "execute_result"
    }
   ],
   "source": [
    "os.path.isdir(r'C:\\projects\\file_manager')"
   ]
  },
  {
   "cell_type": "code",
   "execution_count": 25,
   "metadata": {},
   "outputs": [
    {
     "data": {
      "text/plain": [
       "'C:\\\\projects'"
      ]
     },
     "execution_count": 25,
     "metadata": {},
     "output_type": "execute_result"
    }
   ],
   "source": [
    "os.path.dirname(r'C:\\projects\\file_manager')"
   ]
  },
  {
   "cell_type": "code",
   "execution_count": 28,
   "metadata": {},
   "outputs": [
    {
     "data": {
      "text/plain": [
       "'c:\\\\projects\\\\file_manager'"
      ]
     },
     "execution_count": 28,
     "metadata": {},
     "output_type": "execute_result"
    }
   ],
   "source": [
    "os.getcwd()"
   ]
  },
  {
   "cell_type": "code",
   "execution_count": 6,
   "metadata": {},
   "outputs": [
    {
     "name": "stdout",
     "output_type": "stream",
     "text": [
      "|test.py\n",
      "|test_f.txt\n",
      "|test_os.ipynb\n",
      "|Системное_программирование_5 и 6.ipynb\n",
      ">.git\n",
      "\t|config\n",
      "\t|description\n",
      "\t|HEAD\n",
      "\t|index\n",
      "\t|packed-refs\n",
      "\t>hooks\n",
      "\t\t|applypatch-msg.sample\n",
      "\t\t|commit-msg.sample\n",
      "\t\t|fsmonitor-watchman.sample\n",
      "\t\t|post-update.sample\n",
      "\t\t|pre-applypatch.sample\n",
      "\t\t|pre-commit.sample\n",
      "\t\t|pre-merge-commit.sample\n",
      "\t\t|pre-push.sample\n",
      "\t\t|pre-rebase.sample\n",
      "\t\t|pre-receive.sample\n",
      "\t\t|prepare-commit-msg.sample\n",
      "\t\t|push-to-checkout.sample\n",
      "\t\t|update.sample\n",
      "\t>info\n",
      "\t\t|exclude\n",
      "\t>logs\n",
      "\t\t|HEAD\n",
      "\t\t>refs\n",
      "\t\t\t>heads\n",
      "\t\t\t\t|main\n",
      "\t\t\t>remotes\n",
      "\t\t\t\t>origin\n",
      "\t\t\t\t\t|HEAD\n",
      "\t>objects\n",
      "\t\t>info\n",
      "\t\t>pack\n",
      "\t\t\t|pack-ce0aa798a866c44eb2d9a63e6e43dbba76dfcdd3.idx\n",
      "\t\t\t|pack-ce0aa798a866c44eb2d9a63e6e43dbba76dfcdd3.pack\n",
      "\t>refs\n",
      "\t\t>heads\n",
      "\t\t\t|main\n",
      "\t\t>remotes\n",
      "\t\t\t>origin\n",
      "\t\t\t\t|HEAD\n",
      "\t\t>tags\n",
      ">test_dir_1\n",
      "\t|test_file_1.txt\n",
      "\t>test_dir_2\n",
      "\t\t|test_file_2.txt\n",
      "\t\t|test_file_3.txt\n",
      ">test_dir_3\n",
      "\t|test_file_4.txt\n"
     ]
    }
   ],
   "source": [
    "list_directory(nested=True)"
   ]
  },
  {
   "cell_type": "code",
   "execution_count": 111,
   "metadata": {},
   "outputs": [],
   "source": [
    "def make_file(path):\n",
    "    try:\n",
    "        with open(path, 'w') as file:\n",
    "            file.write(\"\")\n",
    "        print(f\"File {path} created\")\n",
    "    except OSError as e:\n",
    "        print(f\"Error: {e}\")"
   ]
  },
  {
   "cell_type": "code",
   "execution_count": 112,
   "metadata": {},
   "outputs": [
    {
     "name": "stdout",
     "output_type": "stream",
     "text": [
      "File test_f.txt created\n"
     ]
    }
   ],
   "source": [
    "make_file('test_f.txt')"
   ]
  },
  {
   "cell_type": "code",
   "execution_count": 59,
   "metadata": {},
   "outputs": [
    {
     "data": {
      "text/plain": [
       "['test_file_2.txt', 'test_file_3.txt']"
      ]
     },
     "execution_count": 59,
     "metadata": {},
     "output_type": "execute_result"
    }
   ],
   "source": [
    "os.listdir('test_dir_1/test_dir_2')"
   ]
  },
  {
   "cell_type": "code",
   "execution_count": null,
   "metadata": {},
   "outputs": [],
   "source": []
  }
 ],
 "metadata": {
  "kernelspec": {
   "display_name": "Python 3",
   "language": "python",
   "name": "python3"
  },
  "language_info": {
   "codemirror_mode": {
    "name": "ipython",
    "version": 3
   },
   "file_extension": ".py",
   "mimetype": "text/x-python",
   "name": "python",
   "nbconvert_exporter": "python",
   "pygments_lexer": "ipython3",
   "version": "3.9.12"
  }
 },
 "nbformat": 4,
 "nbformat_minor": 2
}
